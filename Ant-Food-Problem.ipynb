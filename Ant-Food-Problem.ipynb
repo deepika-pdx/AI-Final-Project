{
 "cells": [
  {
   "cell_type": "code",
   "execution_count": 1,
   "metadata": {
    "id": "rfdhGGMsw1H7",
    "scrolled": true
   },
   "outputs": [],
   "source": [
    "import numpy as np\n",
    "import random\n",
    "import matplotlib.pyplot as plt"
   ]
  },
  {
   "cell_type": "code",
   "execution_count": 2,
   "metadata": {
    "id": "9AdpFVfy6ya9"
   },
   "outputs": [],
   "source": [
    "#creating environment \n",
    "environment_rows = 10\n",
    "environment_columns = 10\n",
    "\n",
    "q_values = np.zeros((environment_rows, environment_columns, 4))"
   ]
  },
  {
   "cell_type": "code",
   "execution_count": 3,
   "metadata": {
    "id": "z43QX_t080q3"
   },
   "outputs": [],
   "source": [
    "#actions\n",
    "actions = ['up', 'right', 'down', 'left']"
   ]
  },
  {
   "cell_type": "code",
   "execution_count": 4,
   "metadata": {
    "id": "GIJu7XsLXw62"
   },
   "outputs": [
    {
     "name": "stdout",
     "output_type": "stream",
     "text": [
      "[-100 -100 -100 -100 -100 -100 -100 -100 -100 -100]\n",
      "[-100   -1   -1   -1   -1   -1   -1   -1   -1 -100]\n",
      "[-100   -1   -1   -1   -1  100   -1   -1   -1 -100]\n",
      "[-100   -1   -1 -100 -100 -100 -100 -100   -1 -100]\n",
      "[-100   -1   -1   -1   -1   -1   -1   -1   -1 -100]\n",
      "[-100   -1   -1   -1   -1   -1   -1   -1   -1 -100]\n",
      "[-100   -1   -1   -1   -1   -1   -1   -1   -1 -100]\n",
      "[-100   -1   -1   -1   -1   -1   -1   -1   -1 -100]\n",
      "[-100   -1   -1   -1   -1   -1   -1   -1   -1 -100]\n",
      "[-100 -100 -100 -100 -100 -100 -100 -100 -100 -100]\n"
     ]
    }
   ],
   "source": [
    "rewards = np.full((environment_rows, environment_columns), -100)\n",
    "rewards[2, 5] = 100\n",
    "\n",
    "\n",
    "aisles = {}\n",
    "aisles[1] = [i for i in range(1,9)]\n",
    "aisles[2] = [1,2,3,4,6,7,8]\n",
    "aisles[3] = [1,2,8]\n",
    "aisles[4] = [i for i in range(1,9)]\n",
    "aisles[5] = [i for i in range(1,9)]\n",
    "aisles[6] = [i for i in range(1,9)]\n",
    "aisles[7] = [i for i in range(1,9)]\n",
    "aisles[8] = [i for i in range(1,9)]\n",
    "\n",
    "\n",
    "for row_index in range(1, 9):\n",
    "  for column_index in aisles[row_index]:\n",
    "    rewards[row_index, column_index] = -1\n",
    "  \n",
    "for row in rewards:\n",
    "  print(row)"
   ]
  },
  {
   "cell_type": "code",
   "execution_count": 5,
   "metadata": {
    "id": "DnCfO5tVG0LJ"
   },
   "outputs": [],
   "source": [
    "def is_terminal_state(current_row_index, current_column_index):\n",
    "  if rewards[current_row_index, current_column_index] == -1.:\n",
    "    return False\n",
    "  else:\n",
    "    return True\n",
    "\n",
    "\n",
    "def get_starting_location():\n",
    "  current_row_index = np.random.randint(environment_rows)\n",
    "  current_column_index = np.random.randint(environment_columns)\n",
    "  while is_terminal_state(current_row_index, current_column_index):\n",
    "    current_row_index = np.random.randint(environment_rows)\n",
    "    current_column_index = np.random.randint(environment_columns)\n",
    "  return current_row_index, current_column_index\n",
    "\n",
    "def get_next_action(current_row_index, current_column_index, epsilon):\n",
    "  if np.random.random() < epsilon:\n",
    "    return np.argmax(q_values[current_row_index, current_column_index])\n",
    "  else: \n",
    "    return np.random.randint(4)\n",
    "\n",
    "def get_next_location(current_row_index, current_column_index, action_index):\n",
    "  new_row_index = current_row_index\n",
    "  new_column_index = current_column_index\n",
    "  if actions[action_index] == 'up' and current_row_index > 0:\n",
    "    new_row_index -= 1\n",
    "  elif actions[action_index] == 'right' and current_column_index < environment_columns - 1:\n",
    "    new_column_index += 1\n",
    "  elif actions[action_index] == 'down' and current_row_index < environment_rows - 1:\n",
    "    new_row_index += 1\n",
    "  elif actions[action_index] == 'left' and current_column_index > 0:\n",
    "    new_column_index -= 1\n",
    "  return new_row_index, new_column_index\n",
    "\n",
    "\n",
    "def get_shortest_path(start_row_index, start_column_index):\n",
    "  if is_terminal_state(start_row_index, start_column_index):\n",
    "    return []\n",
    "  else: \n",
    "    current_row_index, current_column_index = start_row_index, start_column_index\n",
    "    shortest_path = []\n",
    "    shortest_path.append([current_row_index, current_column_index])\n",
    "    while not is_terminal_state(current_row_index, current_column_index):\n",
    "      action_index = get_next_action(current_row_index, current_column_index, 1.)\n",
    "      current_row_index, current_column_index = get_next_location(current_row_index, current_column_index, action_index)\n",
    "      shortest_path.append([current_row_index, current_column_index])\n",
    "    return shortest_path"
   ]
  },
  {
   "cell_type": "code",
   "execution_count": 6,
   "metadata": {
    "id": "3N5BB0m0JHIn"
   },
   "outputs": [
    {
     "name": "stdout",
     "output_type": "stream",
     "text": [
      "Training complete!\n"
     ]
    }
   ],
   "source": [
    "epsilon = 0.9 \n",
    "discount_factor = 0.9 \n",
    "learning_rate = 0.2\n",
    "sum_train = 0\n",
    "reward_list = list()\n",
    "\n",
    "for episode in range(1000):\n",
    "  row_index, column_index = get_starting_location()\n",
    "\n",
    "  while not is_terminal_state(row_index, column_index):\n",
    "    action_index = get_next_action(row_index, column_index, epsilon)\n",
    "\n",
    "    old_row_index, old_column_index = row_index, column_index \n",
    "    row_index, column_index = get_next_location(row_index, column_index, action_index)\n",
    "    \n",
    "    \n",
    "    reward = rewards[row_index, column_index]\n",
    "    reward_list.append(reward)\n",
    "    sum_train += rewards[row_index, column_index]\n",
    "    old_q_value = q_values[old_row_index, old_column_index, action_index]\n",
    "    temporal_difference = reward + (discount_factor * np.max(q_values[row_index, column_index])) - old_q_value\n",
    "\n",
    "   \n",
    "    new_q_value = old_q_value + (learning_rate * temporal_difference)\n",
    "    q_values[old_row_index, old_column_index, action_index] = new_q_value\n",
    "\n",
    "print('Training complete!')"
   ]
  },
  {
   "cell_type": "code",
   "execution_count": 7,
   "metadata": {},
   "outputs": [
    {
     "name": "stdout",
     "output_type": "stream",
     "text": [
      "Average reward for training:  60.451\n"
     ]
    },
    {
     "data": {
      "image/png": "[encoded data removed]",
      "text/plain": [
       "<Figure size 432x288 with 1 Axes>"
      ]
     },
     "metadata": {
      "needs_background": "light"
     },
     "output_type": "display_data"
    }
   ],
   "source": [
    "average_train_reward = sum_train / 1000\n",
    "print(\"Average reward for training: \", average_train_reward)\n",
    "#print(reward_list)\n",
    "plt.title(\"Training Reward to the episodes\")\n",
    "plt.plot(reward_list)\n",
    "plt.show()"
   ]
  },
  {
   "cell_type": "code",
   "execution_count": 8,
   "metadata": {},
   "outputs": [
    {
     "name": "stdout",
     "output_type": "stream",
     "text": [
      "After Trainning\n",
      "[[3, 8], [2, 8], [2, 7], [2, 6], [2, 5]]\n",
      "[[5, 5], [5, 4], [5, 3], [5, 2], [4, 2], [3, 2], [2, 2], [2, 3], [2, 4], [2, 5]]\n",
      "[[8, 5], [8, 4], [7, 4], [7, 3], [7, 2], [6, 2], [5, 2], [4, 2], [3, 2], [2, 2], [2, 3], [2, 4], [2, 5]]\n"
     ]
    }
   ],
   "source": [
    "print(\"After Trainning\")\n",
    "print(get_shortest_path(3, 8)) \n",
    "print(get_shortest_path(5, 5)) \n",
    "print(get_shortest_path(8, 5)) "
   ]
  },
  {
   "cell_type": "code",
   "execution_count": 9,
   "metadata": {},
   "outputs": [
    {
     "name": "stdout",
     "output_type": "stream",
     "text": [
      "Testing complete!\n"
     ]
    }
   ],
   "source": [
    "epsilon = 0.9 \n",
    "discount_factor = 0.9 \n",
    "learning_rate = 0.2\n",
    "sum_test = 0\n",
    "\n",
    "\n",
    "for episode in range (500):\n",
    "  row_index, column_index = get_starting_location()\n",
    "\n",
    "  while not is_terminal_state(row_index, column_index):\n",
    "    action_index = get_next_action(row_index, column_index, epsilon)\n",
    "\n",
    "    old_row_index, old_column_index = row_index, column_index \n",
    "    row_index, column_index = get_next_location(row_index, column_index, action_index)\n",
    "    \n",
    "    \n",
    "    reward = rewards[row_index, column_index]\n",
    "    sum_test += rewards[row_index, column_index]\n",
    "    old_q_value = q_values[old_row_index, old_column_index, action_index]\n",
    "    temporal_difference = reward + (discount_factor * np.max(q_values[row_index, column_index])) - old_q_value\n",
    "\n",
    "   \n",
    "    new_q_value = old_q_value + (learning_rate * temporal_difference)\n",
    "    #q_values[old_row_index, old_column_index, action_index] = new_q_value\n",
    "\n",
    "print('Testing complete!')"
   ]
  },
  {
   "cell_type": "code",
   "execution_count": 10,
   "metadata": {},
   "outputs": [
    {
     "name": "stdout",
     "output_type": "stream",
     "text": [
      "Average reward for testing:  75.406\n"
     ]
    }
   ],
   "source": [
    "average_testing_reward = sum_test / 500\n",
    "print(\"Average reward for testing: \", average_testing_reward)"
   ]
  },
  {
   "cell_type": "code",
   "execution_count": 11,
   "metadata": {
    "id": "F1YO3mj_oS2J"
   },
   "outputs": [
    {
     "name": "stdout",
     "output_type": "stream",
     "text": [
      "After Testing\n",
      "[[3, 8], [2, 8], [2, 7], [2, 6], [2, 5]]\n",
      "[[5, 5], [5, 4], [5, 3], [5, 2], [4, 2], [3, 2], [2, 2], [2, 3], [2, 4], [2, 5]]\n",
      "[[8, 5], [8, 4], [7, 4], [7, 3], [7, 2], [6, 2], [5, 2], [4, 2], [3, 2], [2, 2], [2, 3], [2, 4], [2, 5]]\n"
     ]
    }
   ],
   "source": [
    "print(\"After Testing\")\n",
    "print(get_shortest_path(3, 8)) \n",
    "print(get_shortest_path(5, 5)) \n",
    "print(get_shortest_path(8, 5)) "
   ]
  }
 ],
 "metadata": {
  "colab": {
   "provenance": []
  },
  "kernelspec": {
   "display_name": "Python 3",
   "language": "python",
   "name": "python3"
  },
  "language_info": {
   "codemirror_mode": {
    "name": "ipython",
    "version": 3
   },
   "file_extension": ".py",
   "mimetype": "text/x-python",
   "name": "python",
   "nbconvert_exporter": "python",
   "pygments_lexer": "ipython3",
   "version": "3.8.8"
  }
 },
 "nbformat": 4,
 "nbformat_minor": 1
}
